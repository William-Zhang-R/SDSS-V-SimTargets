{
 "cells": [
  {
   "cell_type": "code",
   "execution_count": 1,
   "metadata": {},
   "outputs": [],
   "source": [
    "import numpy as np\n",
    "from astropy.table import Table\n",
    "from astropy import units as u\n",
    "from astropy.io import fits\n",
    "\n",
    "from matplotlib import pyplot as plt #Our new imports\n",
    "#The matplotlib magic. Don't forget this in new notebooks\n",
    "%matplotlib inline "
   ]
  },
  {
   "cell_type": "code",
   "execution_count": 2,
   "metadata": {},
   "outputs": [],
   "source": [
    "nick_tab = Table.read('workspace/target_files/MWM-RVcadences.fits')"
   ]
  },
  {
   "cell_type": "code",
   "execution_count": 4,
   "metadata": {},
   "outputs": [
    {
     "name": "stdout",
     "output_type": "stream",
     "text": [
      "cadence nepochs  delta [72] softness [72] lunation [72]  instrument [72] \n",
      "------- ------- ----------- ------------- -------------- ----------------\n",
      "  rv6x1       6  0.0 .. nan    1.0 .. nan   100.0 .. nan       apogee .. \n",
      "  rv6x2      12  0.0 .. nan    1.0 .. nan   100.0 .. nan       apogee .. \n",
      "  rv6x4      24  0.0 .. nan    1.0 .. nan   100.0 .. nan       apogee .. \n",
      "  rv9x1       9  0.0 .. nan    1.0 .. nan   100.0 .. nan       apogee .. \n",
      "  rv9x2      18  0.0 .. nan    1.0 .. nan   100.0 .. nan       apogee .. \n",
      "  rv9x4      36  0.0 .. nan    1.0 .. nan   100.0 .. nan       apogee .. \n",
      " rv12x1      12  0.0 .. nan    1.0 .. nan   100.0 .. nan       apogee .. \n",
      " rv12x2      24  0.0 .. nan    1.0 .. nan   100.0 .. nan       apogee .. \n",
      " rv12x4      48  0.0 .. nan    1.0 .. nan   100.0 .. nan       apogee .. \n",
      " rv15x1      15  0.0 .. nan    1.0 .. nan   100.0 .. nan       apogee .. \n",
      " rv15x2      30  0.0 .. nan    1.0 .. nan   100.0 .. nan       apogee .. \n",
      " rv15x4      60  0.0 .. nan    1.0 .. nan   100.0 .. nan       apogee .. \n",
      " rv18x1      18  0.0 .. nan    1.0 .. nan   100.0 .. nan       apogee .. \n",
      " rv18x2      36  0.0 .. nan    1.0 .. nan   100.0 .. nan       apogee .. \n",
      " rv18x4      72 0.0 .. 0.01   1.0 .. 0.01 100.0 .. 100.0 apogee .. apogee\n"
     ]
    }
   ],
   "source": [
    "print(nick_tab)"
   ]
  },
  {
   "cell_type": "code",
   "execution_count": 18,
   "metadata": {},
   "outputs": [
    {
     "name": "stdout",
     "output_type": "stream",
     "text": [
      "[[   0.    3.   30.    3.  300.    3.   nan   nan   nan   nan   nan   nan\n",
      "    nan   nan   nan   nan   nan   nan   nan   nan   nan   nan   nan   nan\n",
      "    nan   nan   nan   nan   nan   nan   nan   nan   nan   nan   nan   nan\n",
      "    nan   nan   nan   nan   nan   nan   nan   nan   nan   nan   nan   nan\n",
      "    nan   nan   nan   nan   nan   nan   nan   nan   nan   nan   nan   nan\n",
      "    nan   nan   nan   nan   nan   nan   nan   nan   nan   nan   nan   nan]]\n"
     ]
    }
   ],
   "source": [
    "test_arr = nick_tab['delta'][(nick_tab['cadence']=='rv6x1')].data\n",
    "print(test_arr)\n"
   ]
  },
  {
   "cell_type": "code",
   "execution_count": 10,
   "metadata": {},
   "outputs": [],
   "source": [
    "def h2exp(hmag,sn=100,exptime=15.0):   \n",
    "    '''\n",
    "    This function takes in a hmag and given signal to noise and spits back the required time. Based on\n",
    "    Hmag = 11 at S/N 100 in an hour.\n",
    "    '''\n",
    "    #Scale the hmag based on t = (1 hour)*10^(0.4*(H-11))\n",
    "    #Then I cut it up into 15 minute exposures.      \n",
    "    time = 60*(sn**2/100.0**2)*10**(0.4*(hmag-11))\n",
    "    nexp = np.array(np.round(time / exptime)) \n",
    "    #Min value is 1\n",
    "    nexp[(nexp == 0)] = 1\n",
    "    #Set Nan's to nan  \n",
    "    nexp[np.isnan(hmag)] = np.nan\n",
    "    \n",
    "    #for i in range(len(hmag)):\n",
    "    #    print(hmag[i],time[i],nexp[i])    \n",
    "    return(nexp)"
   ]
  },
  {
   "cell_type": "code",
   "execution_count": 12,
   "metadata": {},
   "outputs": [
    {
     "name": "stdout",
     "output_type": "stream",
     "text": [
      "10.0 1.0\n",
      "10.1 1.0\n",
      "10.2 1.0\n",
      "10.3 1.0\n",
      "10.4 1.0\n",
      "10.5 1.0\n",
      "10.6 1.0\n",
      "10.7 1.0\n",
      "10.8 1.0\n",
      "10.9 1.0\n",
      "11.0 1.0\n",
      "11.1 1.0\n",
      "11.2 1.0\n",
      "11.3 1.0\n",
      "11.4 1.0\n",
      "11.5 1.0\n",
      "11.6 1.0\n",
      "11.7 1.0\n",
      "11.8 1.0\n",
      "11.9 1.0\n",
      "12.0 1.0\n",
      "12.1 1.0\n",
      "12.2 1.0\n",
      "12.3 1.0\n",
      "12.4 1.0\n",
      "12.5 1.0\n",
      "12.6 1.0\n",
      "12.7 1.0\n",
      "12.8 1.0\n",
      "12.9 1.0\n",
      "13.0 1.0\n",
      "13.1 1.0\n",
      "13.2 1.0\n",
      "13.3 1.0\n",
      "13.4 1.0\n",
      "13.5 2.0\n",
      "13.6 2.0\n",
      "13.7 2.0\n",
      "13.8 2.0\n",
      "13.9 2.0\n",
      "14.0 3.0\n",
      "14.1 3.0\n",
      "14.2 3.0\n",
      "14.3 3.0\n",
      "14.4 4.0\n",
      "14.5 4.0\n",
      "14.6 4.0\n",
      "14.7 5.0\n",
      "14.8 5.0\n",
      "14.9 6.0\n",
      "15.0 6.0\n",
      "15.1 7.0\n",
      "15.2 8.0\n",
      "15.3 8.0\n",
      "15.4 9.0\n",
      "15.5 10.0\n",
      "15.6 11.0\n",
      "15.7 12.0\n",
      "15.8 13.0\n",
      "15.9 15.0\n"
     ]
    }
   ],
   "source": [
    "hmags = np.arange(10,16,0.1)\n",
    "exposures = h2exp(hmags,sn=20)\n",
    "for i in range(len(hmags)):\n",
    "    print(hmags[i],exposures[i])"
   ]
  },
  {
   "cell_type": "code",
   "execution_count": null,
   "metadata": {},
   "outputs": [],
   "source": []
  }
 ],
 "metadata": {
  "kernelspec": {
   "display_name": "Python 3",
   "language": "python",
   "name": "python3"
  },
  "language_info": {
   "codemirror_mode": {
    "name": "ipython",
    "version": 3
   },
   "file_extension": ".py",
   "mimetype": "text/x-python",
   "name": "python",
   "nbconvert_exporter": "python",
   "pygments_lexer": "ipython3",
   "version": "3.6.6"
  }
 },
 "nbformat": 4,
 "nbformat_minor": 2
}
