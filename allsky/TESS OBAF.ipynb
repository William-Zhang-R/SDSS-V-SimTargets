{
 "cells": [
  {
   "cell_type": "markdown",
   "metadata": {},
   "source": [
    "# This is a the All-Sky Test Simulation for DAMS TESS OBAF Convective Core Stars"
   ]
  },
  {
   "cell_type": "markdown",
   "metadata": {},
   "source": [
    "# Star Selection Rules\n",
    "\n",
    "From Andrew:\n",
    "TThe DAMS program is about eclipsing/astrometric SB2 binaries, so the target selection will be finalised in summer after TESS has completed its nominal mission.\n",
    "\n",
    "The original idea was to observe these stars with APOGEE, however I do not see why APOGEE would be better than BOSS for the vast majority of OB stars. Yet, I think it is necessary to target AF stars with the APOGEE instrument. So, ideally, it should be: if (OB) then BOSS, else APOGEE. This is probably too complicated for the sims at this point, so my suggestion is to request APOGEE data for all those stars and to check the completeness vs available (=unused) BOSS fibers afterwards.\n",
    "\n",
    "When selecting targets, I imposed the magnitude cut at Hmag = 11.5 (yet another reason to ask for APOGEE data at this point since we can go fainter with BOSS). Also, stars brighter than Hmag=7 were excluded."
   ]
  },
  {
   "cell_type": "code",
   "execution_count": 1,
   "metadata": {},
   "outputs": [],
   "source": [
    "import numpy as np\n",
    "from matplotlib import pyplot as plt\n",
    "from astropy.table import Table,vstack\n",
    "import astropy.units as u\n",
    "from targetlib import testfield_gal,testfield_fk5,testfield_ecl,h2exp\n",
    "from astropy.coordinates import SkyCoord\n",
    "from astropy.coordinates import Galactic,FK5,BarycentricTrueEcliptic\n",
    "%matplotlib inline"
   ]
  },
  {
   "cell_type": "markdown",
   "metadata": {},
   "source": [
    "## History\n",
    "- New in Gamma-2-yso\n",
    "   - No changes with respect to Gamma-2-cad_match\n",
    "- New in Gamma-2-cad_match\n",
    "   - Split 8x3 into two groups:\n",
    "       - 8x2 for brighter than H=11\n",
    "       - 8x4 for dimmer than H=11\n",
    "   - Set delta_min = 1\n",
    "   - Set delta_max = 3000\n",
    "- New in Gamma-0\n",
    "    - Renamed class from TESS OBAF to DAMS\n",
    "    - All new targets See email on 3/4/2020\n",
    "    - All new cadences"
   ]
  },
  {
   "cell_type": "code",
   "execution_count": 2,
   "metadata": {},
   "outputs": [],
   "source": [
    "#Define some helper functions\n",
    "def safe_less(array, value):\n",
    "    '''\n",
    "    Return a mask for indices that are less than value. Is NaN safe.\n",
    "    \n",
    "    Arguments:\n",
    "        array: numerical numpy array with NaNs\n",
    "        value: value below, which function returns true\n",
    "    Returns:\n",
    "        boolean array with True for indices less than value and False for all other\n",
    "        values including NaNs\n",
    "    '''   \n",
    "    mask = np.zeros(array.shape, dtype=bool)\n",
    "    np.less(array, value, out=mask, where=~np.isnan(array)) #Used to avoid warning with nan values\n",
    "    return(mask)\n",
    "def safe_greater(array, value):\n",
    "    '''\n",
    "    Return a mask for indices that are more than value. Is NaN safe.\n",
    "    \n",
    "    Arguments:\n",
    "        array: numerical numpy array with NaNs\n",
    "        value: value greater, which function returns true\n",
    "    Returns:\n",
    "        boolean array with True for indices greater than value and False for all other\n",
    "        values including NaNs\n",
    "    '''   \n",
    "    mask = np.zeros(array.shape, dtype=bool)\n",
    "    np.greater(array, value, out=mask, where=~np.isnan(array)) #Used to avoid warning with nan values\n",
    "    return(mask)\n"
   ]
  },
  {
   "cell_type": "code",
   "execution_count": 3,
   "metadata": {
    "scrolled": false
   },
   "outputs": [
    {
     "data": {
      "text/html": [
       "<i>Table length=233</i>\n",
       "<table id=\"table140418680018448\" class=\"table-striped table-bordered table-condensed\">\n",
       "<thead><tr><th>RA</th><th>Dec</th><th>Hmag</th></tr></thead>\n",
       "<thead><tr><th>float64</th><th>float64</th><th>float64</th></tr></thead>\n",
       "<tr><td>97.1905111991394</td><td>-55.9171573520957</td><td>8.326</td></tr>\n",
       "<tr><td>94.2695531422105</td><td>-55.4146990398069</td><td>7.417</td></tr>\n",
       "<tr><td>94.619653204524</td><td>-56.9999648044627</td><td>7.688</td></tr>\n",
       "<tr><td>81.5618023448357</td><td>-56.6449640360288</td><td>9.196</td></tr>\n",
       "<tr><td>100.711387414407</td><td>-56.0160722430723</td><td>8.357</td></tr>\n",
       "<tr><td>93.7351839717515</td><td>-56.2013592349194</td><td>8.921</td></tr>\n",
       "<tr><td>97.4443424583465</td><td>-57.2751178658189</td><td>8.58</td></tr>\n",
       "<tr><td>86.0838199851771</td><td>-56.916059240985</td><td>7.405</td></tr>\n",
       "<tr><td>97.7741677481463</td><td>-56.9389643469759</td><td>8.685</td></tr>\n",
       "<tr><td>75.0570220549139</td><td>-57.607741423611</td><td>7.986</td></tr>\n",
       "<tr><td>...</td><td>...</td><td>...</td></tr>\n",
       "<tr><td>275.31408179043</td><td>75.5488051459068</td><td>8.33</td></tr>\n",
       "<tr><td>283.384524465782</td><td>75.786127874129</td><td>7.275</td></tr>\n",
       "<tr><td>275.358064749655</td><td>74.0480491833691</td><td>8.038</td></tr>\n",
       "<tr><td>257.705148583655</td><td>75.0978186799538</td><td>7.989</td></tr>\n",
       "<tr><td>265.233265877082</td><td>74.4475030334646</td><td>8.474</td></tr>\n",
       "<tr><td>293.52690935237</td><td>74.2989833040038</td><td>8.26</td></tr>\n",
       "<tr><td>275.879592129152</td><td>74.1679803834149</td><td>8.515</td></tr>\n",
       "<tr><td>256.689242525843</td><td>77.3027384152442</td><td>8.508</td></tr>\n",
       "<tr><td>262.821707253461</td><td>77.1011636086975</td><td>8.744</td></tr>\n",
       "<tr><td>271.961940933939</td><td>77.5663288213893</td><td>8.503</td></tr>\n",
       "</table>"
      ],
      "text/plain": [
       "<Table length=233>\n",
       "       RA               Dec          Hmag \n",
       "    float64           float64      float64\n",
       "---------------- ----------------- -------\n",
       "97.1905111991394 -55.9171573520957   8.326\n",
       "94.2695531422105 -55.4146990398069   7.417\n",
       " 94.619653204524 -56.9999648044627   7.688\n",
       "81.5618023448357 -56.6449640360288   9.196\n",
       "100.711387414407 -56.0160722430723   8.357\n",
       "93.7351839717515 -56.2013592349194   8.921\n",
       "97.4443424583465 -57.2751178658189    8.58\n",
       "86.0838199851771  -56.916059240985   7.405\n",
       "97.7741677481463 -56.9389643469759   8.685\n",
       "75.0570220549139  -57.607741423611   7.986\n",
       "             ...               ...     ...\n",
       " 275.31408179043  75.5488051459068    8.33\n",
       "283.384524465782   75.786127874129   7.275\n",
       "275.358064749655  74.0480491833691   8.038\n",
       "257.705148583655  75.0978186799538   7.989\n",
       "265.233265877082  74.4475030334646   8.474\n",
       " 293.52690935237  74.2989833040038    8.26\n",
       "275.879592129152  74.1679803834149   8.515\n",
       "256.689242525843  77.3027384152442   8.508\n",
       "262.821707253461  77.1011636086975   8.744\n",
       "271.961940933939  77.5663288213893   8.503"
      ]
     },
     "execution_count": 3,
     "metadata": {},
     "output_type": "execute_result"
    }
   ],
   "source": [
    "ver = 'gamma-2-yso'\n",
    "obaf1_target_tab = Table.read('workspace/target_files/OBAF/{}/mwm_tess_obaf_8x1.csv'.format(ver)\n",
    "                         ,format='ascii')\n",
    "obaf3_target_tab = Table.read('workspace/target_files/OBAF/{}/mwm_tess_obaf_8x3.csv'.format(ver)\n",
    "                         ,format='ascii')\n",
    "obaf1_target_tab"
   ]
  },
  {
   "cell_type": "markdown",
   "metadata": {},
   "source": [
    "## Split 8x3 into 8x2 and 8x4 at H=11"
   ]
  },
  {
   "cell_type": "code",
   "execution_count": 4,
   "metadata": {},
   "outputs": [
    {
     "data": {
      "text/html": [
       "<i>Table length=136</i>\n",
       "<table id=\"table140419399436368\" class=\"table-striped table-bordered table-condensed\">\n",
       "<thead><tr><th>RA</th><th>Dec</th><th>Hmag</th></tr></thead>\n",
       "<thead><tr><th>float64</th><th>float64</th><th>float64</th></tr></thead>\n",
       "<tr><td>91.0513650357723</td><td>-55.9474287568939</td><td>9.537</td></tr>\n",
       "<tr><td>84.6044485919174</td><td>-55.2382176836452</td><td>10.217</td></tr>\n",
       "<tr><td>79.2517361577462</td><td>-55.9239914225397</td><td>10.123</td></tr>\n",
       "<tr><td>82.1808964289137</td><td>-56.8690918173083</td><td>10.579</td></tr>\n",
       "<tr><td>99.640957185678</td><td>-56.8418877947962</td><td>9.609</td></tr>\n",
       "<tr><td>99.2498951089785</td><td>-57.9433805060858</td><td>10.138</td></tr>\n",
       "<tr><td>93.7168356924936</td><td>-56.2307589428987</td><td>10.714</td></tr>\n",
       "<tr><td>97.2477036522102</td><td>-57.0200364431695</td><td>10.172</td></tr>\n",
       "<tr><td>100.98708329568</td><td>-56.4145673605748</td><td>9.636</td></tr>\n",
       "<tr><td>98.9872338164693</td><td>-58.1486397229024</td><td>10.144</td></tr>\n",
       "<tr><td>...</td><td>...</td><td>...</td></tr>\n",
       "<tr><td>274.138642914711</td><td>70.4037779732986</td><td>10.496</td></tr>\n",
       "<tr><td>266.698020808786</td><td>71.9342864466585</td><td>10.514</td></tr>\n",
       "<tr><td>263.209529577084</td><td>70.3008096352767</td><td>10.912</td></tr>\n",
       "<tr><td>253.94806028269</td><td>72.3782333858999</td><td>10.838</td></tr>\n",
       "<tr><td>262.004829247215</td><td>72.2414767545316</td><td>10.232</td></tr>\n",
       "<tr><td>272.271587682413</td><td>74.20938474024</td><td>9.538</td></tr>\n",
       "<tr><td>274.368427076686</td><td>75.29489109399</td><td>9.561</td></tr>\n",
       "<tr><td>251.591512433254</td><td>77.0215443971028</td><td>10.37</td></tr>\n",
       "<tr><td>254.192446540075</td><td>76.0277654652124</td><td>10.807</td></tr>\n",
       "<tr><td>289.3221585317269</td><td>76.8530933084053</td><td>10.063</td></tr>\n",
       "</table>"
      ],
      "text/plain": [
       "<Table length=136>\n",
       "        RA               Dec          Hmag \n",
       "     float64           float64      float64\n",
       "----------------- ----------------- -------\n",
       " 91.0513650357723 -55.9474287568939   9.537\n",
       " 84.6044485919174 -55.2382176836452  10.217\n",
       " 79.2517361577462 -55.9239914225397  10.123\n",
       " 82.1808964289137 -56.8690918173083  10.579\n",
       "  99.640957185678 -56.8418877947962   9.609\n",
       " 99.2498951089785 -57.9433805060858  10.138\n",
       " 93.7168356924936 -56.2307589428987  10.714\n",
       " 97.2477036522102 -57.0200364431695  10.172\n",
       "  100.98708329568 -56.4145673605748   9.636\n",
       " 98.9872338164693 -58.1486397229024  10.144\n",
       "              ...               ...     ...\n",
       " 274.138642914711  70.4037779732986  10.496\n",
       " 266.698020808786  71.9342864466585  10.514\n",
       " 263.209529577084  70.3008096352767  10.912\n",
       "  253.94806028269  72.3782333858999  10.838\n",
       " 262.004829247215  72.2414767545316  10.232\n",
       " 272.271587682413    74.20938474024   9.538\n",
       " 274.368427076686    75.29489109399   9.561\n",
       " 251.591512433254  77.0215443971028   10.37\n",
       " 254.192446540075  76.0277654652124  10.807\n",
       "289.3221585317269  76.8530933084053  10.063"
      ]
     },
     "execution_count": 4,
     "metadata": {},
     "output_type": "execute_result"
    }
   ],
   "source": [
    "obaf2_target_tab = obaf3_target_tab[(obaf3_target_tab['Hmag'] < 11)]\n",
    "obaf2_target_tab"
   ]
  },
  {
   "cell_type": "code",
   "execution_count": 5,
   "metadata": {},
   "outputs": [
    {
     "data": {
      "text/html": [
       "<i>Table length=38</i>\n",
       "<table id=\"table140418680019152\" class=\"table-striped table-bordered table-condensed\">\n",
       "<thead><tr><th>RA</th><th>Dec</th><th>Hmag</th></tr></thead>\n",
       "<thead><tr><th>float64</th><th>float64</th><th>float64</th></tr></thead>\n",
       "<tr><td>97.4753547741182</td><td>-55.8477293540202</td><td>11.487</td></tr>\n",
       "<tr><td>75.1261505860038</td><td>-57.9004843503225</td><td>11.066</td></tr>\n",
       "<tr><td>102.881398142316</td><td>-56.2072672842993</td><td>11.242</td></tr>\n",
       "<tr><td>103.939660404695</td><td>-58.1433730115327</td><td>11.282</td></tr>\n",
       "<tr><td>98.0605902299448</td><td>-58.1258815054395</td><td>11.253</td></tr>\n",
       "<tr><td>97.9565882618381</td><td>-60.787957661992</td><td>11.131</td></tr>\n",
       "<tr><td>106.162748183463</td><td>-60.1476096234057</td><td>11.158</td></tr>\n",
       "<tr><td>89.0863974902443</td><td>-60.7622405012789</td><td>11.401</td></tr>\n",
       "<tr><td>92.0666946504553</td><td>-61.2441161020971</td><td>11.309</td></tr>\n",
       "<tr><td>91.134342397401</td><td>-62.514433632337</td><td>11.021</td></tr>\n",
       "<tr><td>...</td><td>...</td><td>...</td></tr>\n",
       "<tr><td>265.040596757836</td><td>58.300859239336</td><td>11.117</td></tr>\n",
       "<tr><td>255.531412568962</td><td>60.6134066425196</td><td>11.2</td></tr>\n",
       "<tr><td>281.195386367248</td><td>61.4419669234832</td><td>11.218</td></tr>\n",
       "<tr><td>297.542860514266</td><td>63.3917487282766</td><td>11.067</td></tr>\n",
       "<tr><td>296.044352547442</td><td>62.5867765529982</td><td>11.494</td></tr>\n",
       "<tr><td>291.8763409763372</td><td>63.3879502618465</td><td>11.108</td></tr>\n",
       "<tr><td>300.215824088612</td><td>66.1837898202057</td><td>11.231</td></tr>\n",
       "<tr><td>264.126597765676</td><td>68.9721656483604</td><td>11.27</td></tr>\n",
       "<tr><td>295.9594453341089</td><td>71.2028073058735</td><td>11.483</td></tr>\n",
       "<tr><td>248.395818772256</td><td>72.1404384179775</td><td>11.274</td></tr>\n",
       "</table>"
      ],
      "text/plain": [
       "<Table length=38>\n",
       "        RA               Dec          Hmag \n",
       "     float64           float64      float64\n",
       "----------------- ----------------- -------\n",
       " 97.4753547741182 -55.8477293540202  11.487\n",
       " 75.1261505860038 -57.9004843503225  11.066\n",
       " 102.881398142316 -56.2072672842993  11.242\n",
       " 103.939660404695 -58.1433730115327  11.282\n",
       " 98.0605902299448 -58.1258815054395  11.253\n",
       " 97.9565882618381  -60.787957661992  11.131\n",
       " 106.162748183463 -60.1476096234057  11.158\n",
       " 89.0863974902443 -60.7622405012789  11.401\n",
       " 92.0666946504553 -61.2441161020971  11.309\n",
       "  91.134342397401  -62.514433632337  11.021\n",
       "              ...               ...     ...\n",
       " 265.040596757836   58.300859239336  11.117\n",
       " 255.531412568962  60.6134066425196    11.2\n",
       " 281.195386367248  61.4419669234832  11.218\n",
       " 297.542860514266  63.3917487282766  11.067\n",
       " 296.044352547442  62.5867765529982  11.494\n",
       "291.8763409763372  63.3879502618465  11.108\n",
       " 300.215824088612  66.1837898202057  11.231\n",
       " 264.126597765676  68.9721656483604   11.27\n",
       "295.9594453341089  71.2028073058735  11.483\n",
       " 248.395818772256  72.1404384179775  11.274"
      ]
     },
     "execution_count": 5,
     "metadata": {},
     "output_type": "execute_result"
    }
   ],
   "source": [
    "obaf4_target_tab = obaf3_target_tab[(obaf3_target_tab['Hmag'] >= 11)]\n",
    "obaf4_target_tab"
   ]
  },
  {
   "cell_type": "markdown",
   "metadata": {},
   "source": [
    "## Plot stars"
   ]
  },
  {
   "cell_type": "code",
   "execution_count": 6,
   "metadata": {},
   "outputs": [
    {
     "name": "stderr",
     "output_type": "stream",
     "text": [
      "/home/deleenm/Dropbox/Research/notebooks/SDSS-V SimTargets/allsky/targetlib.py:148: MatplotlibDeprecationWarning: \n",
      "The dedent function was deprecated in Matplotlib 3.1 and will be removed in 3.3. Use inspect.cleandoc instead.\n",
      "  bmap = Basemap(projection='moll', lon_0=180,lat_0=0)\n",
      "/usr/local/lib/student/anaconda3/lib/python3.7/site-packages/IPython/core/pylabtools.py:132: UserWarning: Creating legend with loc=\"best\" can be slow with large amounts of data.\n",
      "  fig.canvas.print_figure(bytes_io, **kw)\n"
     ]
    },
    {
     "data": {
      "image/png": "[encoded data removed]",
      "text/plain": [
       "<Figure size 1152x864 with 1 Axes>"
      ]
     },
     "metadata": {},
     "output_type": "display_data"
    }
   ],
   "source": [
    "plt.rcParams.update({'font.size': 14})\n",
    "\n",
    "(fig,bmap) = testfield_fk5()\n",
    "#Plot OBAF Targets\n",
    "xplan,yplan = bmap(obaf1_target_tab['RA'],obaf1_target_tab['Dec'])\n",
    "bmap.scatter(xplan,yplan,marker='.',label='TESS OBAF_8x1',alpha=1)\n",
    "xplan,yplan = bmap(obaf2_target_tab['RA'],obaf2_target_tab['Dec'])\n",
    "bmap.scatter(xplan,yplan,marker='.',label='TESS OBAF_8x2',alpha=1)\n",
    "xplan,yplan = bmap(obaf4_target_tab['RA'],obaf4_target_tab['Dec'])\n",
    "bmap.scatter(xplan,yplan,marker='.',label='TESS OBAF_8x4',alpha=1)\n",
    "plt.title(\"Equatorial plot\")\n",
    "plt.legend()\n",
    "plt.show()"
   ]
  },
  {
   "cell_type": "markdown",
   "metadata": {},
   "source": [
    "## Create Target Table"
   ]
  },
  {
   "cell_type": "code",
   "execution_count": 7,
   "metadata": {},
   "outputs": [],
   "source": [
    "target_tab = Table()"
   ]
  },
  {
   "cell_type": "code",
   "execution_count": 8,
   "metadata": {},
   "outputs": [],
   "source": [
    "cadence_arr = np.concatenate([np.repeat('mwm_tess_obaf_8x1',len(obaf1_target_tab)),\n",
    "                              np.repeat('mwm_tess_obaf_8x2',len(obaf2_target_tab)),\n",
    "                              np.repeat('mwm_tess_obaf_8x4',len(obaf4_target_tab))])"
   ]
  },
  {
   "cell_type": "code",
   "execution_count": 9,
   "metadata": {},
   "outputs": [],
   "source": [
    "target_tab['ra'] = np.concatenate([obaf1_target_tab['RA'],obaf2_target_tab['RA'],obaf4_target_tab['RA']])\n",
    "target_tab['dec'] = np.concatenate([obaf1_target_tab['Dec'],obaf2_target_tab['Dec'],obaf4_target_tab['Dec']])\n",
    "target_tab['cadence'] = cadence_arr\n",
    "target_tab['type'] = np.repeat('TESS_OBAF',len(cadence_arr))\n",
    "target_tab['priority'] = np.repeat(np.array(25,dtype='int32'),len(cadence_arr))\n",
    "target_tab['value'] = np.repeat(np.array(1.0,dtype='float32'),len(cadence_arr))"
   ]
  },
  {
   "cell_type": "code",
   "execution_count": 10,
   "metadata": {},
   "outputs": [
    {
     "data": {
      "text/html": [
       "<i>Table length=407</i>\n",
       "<table id=\"table140418680072272\" class=\"table-striped table-bordered table-condensed\">\n",
       "<thead><tr><th>ra</th><th>dec</th><th>cadence</th><th>type</th><th>priority</th><th>value</th></tr></thead>\n",
       "<thead><tr><th>float64</th><th>float64</th><th>str17</th><th>str9</th><th>int32</th><th>float32</th></tr></thead>\n",
       "<tr><td>97.1905111991394</td><td>-55.9171573520957</td><td>mwm_tess_obaf_8x1</td><td>TESS_OBAF</td><td>25</td><td>1.0</td></tr>\n",
       "<tr><td>94.2695531422105</td><td>-55.4146990398069</td><td>mwm_tess_obaf_8x1</td><td>TESS_OBAF</td><td>25</td><td>1.0</td></tr>\n",
       "<tr><td>94.619653204524</td><td>-56.9999648044627</td><td>mwm_tess_obaf_8x1</td><td>TESS_OBAF</td><td>25</td><td>1.0</td></tr>\n",
       "<tr><td>81.5618023448357</td><td>-56.6449640360288</td><td>mwm_tess_obaf_8x1</td><td>TESS_OBAF</td><td>25</td><td>1.0</td></tr>\n",
       "<tr><td>100.711387414407</td><td>-56.0160722430723</td><td>mwm_tess_obaf_8x1</td><td>TESS_OBAF</td><td>25</td><td>1.0</td></tr>\n",
       "<tr><td>93.7351839717515</td><td>-56.2013592349194</td><td>mwm_tess_obaf_8x1</td><td>TESS_OBAF</td><td>25</td><td>1.0</td></tr>\n",
       "<tr><td>97.4443424583465</td><td>-57.2751178658189</td><td>mwm_tess_obaf_8x1</td><td>TESS_OBAF</td><td>25</td><td>1.0</td></tr>\n",
       "<tr><td>86.0838199851771</td><td>-56.916059240985</td><td>mwm_tess_obaf_8x1</td><td>TESS_OBAF</td><td>25</td><td>1.0</td></tr>\n",
       "<tr><td>97.7741677481463</td><td>-56.9389643469759</td><td>mwm_tess_obaf_8x1</td><td>TESS_OBAF</td><td>25</td><td>1.0</td></tr>\n",
       "<tr><td>75.0570220549139</td><td>-57.607741423611</td><td>mwm_tess_obaf_8x1</td><td>TESS_OBAF</td><td>25</td><td>1.0</td></tr>\n",
       "<tr><td>...</td><td>...</td><td>...</td><td>...</td><td>...</td><td>...</td></tr>\n",
       "<tr><td>265.040596757836</td><td>58.300859239336</td><td>mwm_tess_obaf_8x4</td><td>TESS_OBAF</td><td>25</td><td>1.0</td></tr>\n",
       "<tr><td>255.531412568962</td><td>60.6134066425196</td><td>mwm_tess_obaf_8x4</td><td>TESS_OBAF</td><td>25</td><td>1.0</td></tr>\n",
       "<tr><td>281.195386367248</td><td>61.4419669234832</td><td>mwm_tess_obaf_8x4</td><td>TESS_OBAF</td><td>25</td><td>1.0</td></tr>\n",
       "<tr><td>297.542860514266</td><td>63.3917487282766</td><td>mwm_tess_obaf_8x4</td><td>TESS_OBAF</td><td>25</td><td>1.0</td></tr>\n",
       "<tr><td>296.044352547442</td><td>62.5867765529982</td><td>mwm_tess_obaf_8x4</td><td>TESS_OBAF</td><td>25</td><td>1.0</td></tr>\n",
       "<tr><td>291.8763409763372</td><td>63.3879502618465</td><td>mwm_tess_obaf_8x4</td><td>TESS_OBAF</td><td>25</td><td>1.0</td></tr>\n",
       "<tr><td>300.215824088612</td><td>66.1837898202057</td><td>mwm_tess_obaf_8x4</td><td>TESS_OBAF</td><td>25</td><td>1.0</td></tr>\n",
       "<tr><td>264.126597765676</td><td>68.9721656483604</td><td>mwm_tess_obaf_8x4</td><td>TESS_OBAF</td><td>25</td><td>1.0</td></tr>\n",
       "<tr><td>295.9594453341089</td><td>71.2028073058735</td><td>mwm_tess_obaf_8x4</td><td>TESS_OBAF</td><td>25</td><td>1.0</td></tr>\n",
       "<tr><td>248.395818772256</td><td>72.1404384179775</td><td>mwm_tess_obaf_8x4</td><td>TESS_OBAF</td><td>25</td><td>1.0</td></tr>\n",
       "</table>"
      ],
      "text/plain": [
       "<Table length=407>\n",
       "        ra               dec             cadence         type   priority  value \n",
       "     float64           float64            str17          str9    int32   float32\n",
       "----------------- ----------------- ----------------- --------- -------- -------\n",
       " 97.1905111991394 -55.9171573520957 mwm_tess_obaf_8x1 TESS_OBAF       25     1.0\n",
       " 94.2695531422105 -55.4146990398069 mwm_tess_obaf_8x1 TESS_OBAF       25     1.0\n",
       "  94.619653204524 -56.9999648044627 mwm_tess_obaf_8x1 TESS_OBAF       25     1.0\n",
       " 81.5618023448357 -56.6449640360288 mwm_tess_obaf_8x1 TESS_OBAF       25     1.0\n",
       " 100.711387414407 -56.0160722430723 mwm_tess_obaf_8x1 TESS_OBAF       25     1.0\n",
       " 93.7351839717515 -56.2013592349194 mwm_tess_obaf_8x1 TESS_OBAF       25     1.0\n",
       " 97.4443424583465 -57.2751178658189 mwm_tess_obaf_8x1 TESS_OBAF       25     1.0\n",
       " 86.0838199851771  -56.916059240985 mwm_tess_obaf_8x1 TESS_OBAF       25     1.0\n",
       " 97.7741677481463 -56.9389643469759 mwm_tess_obaf_8x1 TESS_OBAF       25     1.0\n",
       " 75.0570220549139  -57.607741423611 mwm_tess_obaf_8x1 TESS_OBAF       25     1.0\n",
       "              ...               ...               ...       ...      ...     ...\n",
       " 265.040596757836   58.300859239336 mwm_tess_obaf_8x4 TESS_OBAF       25     1.0\n",
       " 255.531412568962  60.6134066425196 mwm_tess_obaf_8x4 TESS_OBAF       25     1.0\n",
       " 281.195386367248  61.4419669234832 mwm_tess_obaf_8x4 TESS_OBAF       25     1.0\n",
       " 297.542860514266  63.3917487282766 mwm_tess_obaf_8x4 TESS_OBAF       25     1.0\n",
       " 296.044352547442  62.5867765529982 mwm_tess_obaf_8x4 TESS_OBAF       25     1.0\n",
       "291.8763409763372  63.3879502618465 mwm_tess_obaf_8x4 TESS_OBAF       25     1.0\n",
       " 300.215824088612  66.1837898202057 mwm_tess_obaf_8x4 TESS_OBAF       25     1.0\n",
       " 264.126597765676  68.9721656483604 mwm_tess_obaf_8x4 TESS_OBAF       25     1.0\n",
       "295.9594453341089  71.2028073058735 mwm_tess_obaf_8x4 TESS_OBAF       25     1.0\n",
       " 248.395818772256  72.1404384179775 mwm_tess_obaf_8x4 TESS_OBAF       25     1.0"
      ]
     },
     "execution_count": 10,
     "metadata": {},
     "output_type": "execute_result"
    }
   ],
   "source": [
    "target_tab"
   ]
  },
  {
   "cell_type": "code",
   "execution_count": 11,
   "metadata": {},
   "outputs": [],
   "source": [
    "target_tab.write('{}/mwm_tess_obaf_target_{}.fits'.format(ver,ver),overwrite=True)"
   ]
  },
  {
   "cell_type": "markdown",
   "metadata": {},
   "source": [
    "## Create Cadence Table"
   ]
  },
  {
   "cell_type": "markdown",
   "metadata": {},
   "source": [
    "## Cadence rules\n",
    "The cadences are:\n",
    "- 8 epochs with 1 exposure for stars with Hmag < 9.5;\n",
    "- 8 epochs with 2 back-to-back exposures for stars with 9.5 < Hmag < 11\n",
    "- 8 epochs with 4 back-to-back exposures for stars with 11 > Hmag \n",
    "- Delta min 1 days, Delta max is 3000"
   ]
  },
  {
   "cell_type": "code",
   "execution_count": 12,
   "metadata": {},
   "outputs": [],
   "source": [
    "cadence_tab = Table()"
   ]
  },
  {
   "cell_type": "code",
   "execution_count": 13,
   "metadata": {},
   "outputs": [
    {
     "data": {
      "text/html": [
       "<i>Table length=3</i>\n",
       "<table id=\"table140418672557008\" class=\"table-striped table-bordered table-condensed\">\n",
       "<thead><tr><th>cadence</th><th>nepochs</th></tr></thead>\n",
       "<thead><tr><th>str17</th><th>int64</th></tr></thead>\n",
       "<tr><td>mwm_tess_obaf_8x1</td><td>8</td></tr>\n",
       "<tr><td>mwm_tess_obaf_8x2</td><td>16</td></tr>\n",
       "<tr><td>mwm_tess_obaf_8x4</td><td>32</td></tr>\n",
       "</table>"
      ],
      "text/plain": [
       "<Table length=3>\n",
       "     cadence      nepochs\n",
       "      str17        int64 \n",
       "----------------- -------\n",
       "mwm_tess_obaf_8x1       8\n",
       "mwm_tess_obaf_8x2      16\n",
       "mwm_tess_obaf_8x4      32"
      ]
     },
     "execution_count": 13,
     "metadata": {},
     "output_type": "execute_result"
    }
   ],
   "source": [
    "cadence_tab['cadence'] = [\"mwm_tess_obaf_8x1\",\"mwm_tess_obaf_8x2\",\"mwm_tess_obaf_8x4\"]\n",
    "cadence_tab['nepochs'] = [8,16,32]\n",
    "cadence_tab"
   ]
  },
  {
   "cell_type": "code",
   "execution_count": 14,
   "metadata": {},
   "outputs": [
    {
     "name": "stdout",
     "output_type": "stream",
     "text": [
      "[[ 0. 45. 45. 45. 45. 45. 45. 45. nan nan nan nan nan nan nan nan nan nan\n",
      "  nan nan nan nan nan nan nan nan nan nan nan nan nan nan]\n",
      " [ 0.  0. 45.  0. 45.  0. 45.  0. 45.  0. 45.  0. 45.  0. 45.  0. nan nan\n",
      "  nan nan nan nan nan nan nan nan nan nan nan nan nan nan]\n",
      " [ 0.  0.  0.  0. 45.  0.  0.  0. 45.  0.  0.  0. 45.  0.  0.  0. 45.  0.\n",
      "   0.  0. 45.  0.  0.  0. 45.  0.  0.  0. 45.  0.  0.  0.]]\n"
     ]
    },
    {
     "data": {
      "text/html": [
       "<i>Table length=3</i>\n",
       "<table id=\"table140418672557008\" class=\"table-striped table-bordered table-condensed\">\n",
       "<thead><tr><th>cadence</th><th>nepochs</th><th>delta [32]</th></tr></thead>\n",
       "<thead><tr><th>str17</th><th>int64</th><th>float32</th></tr></thead>\n",
       "<tr><td>mwm_tess_obaf_8x1</td><td>8</td><td>0.0 .. nan</td></tr>\n",
       "<tr><td>mwm_tess_obaf_8x2</td><td>16</td><td>0.0 .. nan</td></tr>\n",
       "<tr><td>mwm_tess_obaf_8x4</td><td>32</td><td>0.0 .. 0.0</td></tr>\n",
       "</table>"
      ],
      "text/plain": [
       "<Table length=3>\n",
       "     cadence      nepochs delta [32]\n",
       "      str17        int64   float32  \n",
       "----------------- ------- ----------\n",
       "mwm_tess_obaf_8x1       8 0.0 .. nan\n",
       "mwm_tess_obaf_8x2      16 0.0 .. nan\n",
       "mwm_tess_obaf_8x4      32 0.0 .. 0.0"
      ]
     },
     "execution_count": 14,
     "metadata": {},
     "output_type": "execute_result"
    }
   ],
   "source": [
    "#Make all the deltas size 45\n",
    "obaf1_delta_arr = np.concatenate([[0.,45.,45.,45.,45.,45.,45.,45.],np.repeat(np.nan,24)])\n",
    "obaf2_delta_arr = np.concatenate([np.array([0.,0.,45.,0.,45.,0.,45.,0.,45.,0.,45.,0.,45.,0.,45.,0.],\n",
    "                                           dtype=np.float32),np.repeat(np.nan,16)])\n",
    "obaf4_delta_arr = np.array([0.,0.,0.,0.,45.,0.,0.,0.,45.,0.,0.,0.,45.,0.,0.,0.,45.,0.,0.,0.,45.,0.,0.\n",
    "                                            ,0.,45.,0.,0.,0.,45.,0.,0.,0.],dtype=np.float32)                                  \n",
    "delta_arr = np.array([obaf1_delta_arr,obaf2_delta_arr,obaf4_delta_arr],dtype='float32')\n",
    "print(delta_arr)\n",
    "cadence_tab['delta'] = delta_arr\n",
    "cadence_tab"
   ]
  },
  {
   "cell_type": "code",
   "execution_count": 15,
   "metadata": {},
   "outputs": [
    {
     "name": "stdout",
     "output_type": "stream",
     "text": [
      "[[ 0.  1.  1.  1.  1.  1.  1.  1. nan nan nan nan nan nan nan nan nan nan\n",
      "  nan nan nan nan nan nan nan nan nan nan nan nan nan nan]\n",
      " [ 0.  0.  1.  0.  1.  0.  1.  0.  1.  0.  1.  0.  1.  0.  1.  0. nan nan\n",
      "  nan nan nan nan nan nan nan nan nan nan nan nan nan nan]\n",
      " [ 0.  0.  0.  0.  1.  0.  0.  0.  1.  0.  0.  0.  1.  0.  0.  0.  1.  0.\n",
      "   0.  0.  1.  0.  0.  0.  1.  0.  0.  0.  1.  0.  0.  0.]]\n"
     ]
    },
    {
     "data": {
      "text/html": [
       "<i>Table length=3</i>\n",
       "<table id=\"table140418672557008\" class=\"table-striped table-bordered table-condensed\">\n",
       "<thead><tr><th>cadence</th><th>nepochs</th><th>delta [32]</th><th>delta_min [32]</th></tr></thead>\n",
       "<thead><tr><th>str17</th><th>int64</th><th>float32</th><th>float32</th></tr></thead>\n",
       "<tr><td>mwm_tess_obaf_8x1</td><td>8</td><td>0.0 .. nan</td><td>0.0 .. nan</td></tr>\n",
       "<tr><td>mwm_tess_obaf_8x2</td><td>16</td><td>0.0 .. nan</td><td>0.0 .. nan</td></tr>\n",
       "<tr><td>mwm_tess_obaf_8x4</td><td>32</td><td>0.0 .. 0.0</td><td>0.0 .. 0.0</td></tr>\n",
       "</table>"
      ],
      "text/plain": [
       "<Table length=3>\n",
       "     cadence      nepochs delta [32] delta_min [32]\n",
       "      str17        int64   float32      float32    \n",
       "----------------- ------- ---------- --------------\n",
       "mwm_tess_obaf_8x1       8 0.0 .. nan     0.0 .. nan\n",
       "mwm_tess_obaf_8x2      16 0.0 .. nan     0.0 .. nan\n",
       "mwm_tess_obaf_8x4      32 0.0 .. 0.0     0.0 .. 0.0"
      ]
     },
     "execution_count": 15,
     "metadata": {},
     "output_type": "execute_result"
    }
   ],
   "source": [
    "#Make all the delta_mins 1 day from delta except for zeros \n",
    "delta_min_arr = delta_arr\n",
    "mask = safe_greater(delta_min_arr,0)\n",
    "delta_min_arr[mask] = 1\n",
    "print(delta_min_arr)\n",
    "cadence_tab['delta_min'] = delta_min_arr\n",
    "cadence_tab"
   ]
  },
  {
   "cell_type": "code",
   "execution_count": 16,
   "metadata": {},
   "outputs": [
    {
     "name": "stdout",
     "output_type": "stream",
     "text": [
      "[[0.e+00 3.e+03 3.e+03 3.e+03 3.e+03 3.e+03 3.e+03 3.e+03    nan    nan\n",
      "     nan    nan    nan    nan    nan    nan    nan    nan    nan    nan\n",
      "     nan    nan    nan    nan    nan    nan    nan    nan    nan    nan\n",
      "     nan    nan]\n",
      " [0.e+00 4.e-02 3.e+03 4.e-02 3.e+03 4.e-02 3.e+03 4.e-02 3.e+03 4.e-02\n",
      "  3.e+03 4.e-02 3.e+03 4.e-02 3.e+03 4.e-02    nan    nan    nan    nan\n",
      "     nan    nan    nan    nan    nan    nan    nan    nan    nan    nan\n",
      "     nan    nan]\n",
      " [0.e+00 4.e-02 4.e-02 4.e-02 3.e+03 4.e-02 4.e-02 4.e-02 3.e+03 4.e-02\n",
      "  4.e-02 4.e-02 3.e+03 4.e-02 4.e-02 4.e-02 3.e+03 4.e-02 4.e-02 4.e-02\n",
      "  3.e+03 4.e-02 4.e-02 4.e-02 3.e+03 4.e-02 4.e-02 4.e-02 3.e+03 4.e-02\n",
      "  4.e-02 4.e-02]]\n"
     ]
    },
    {
     "data": {
      "text/html": [
       "<i>Table length=3</i>\n",
       "<table id=\"table140418672557008\" class=\"table-striped table-bordered table-condensed\">\n",
       "<thead><tr><th>cadence</th><th>nepochs</th><th>delta [32]</th><th>delta_min [32]</th><th>delta_max [32]</th></tr></thead>\n",
       "<thead><tr><th>str17</th><th>int64</th><th>float32</th><th>float32</th><th>float32</th></tr></thead>\n",
       "<tr><td>mwm_tess_obaf_8x1</td><td>8</td><td>0.0 .. nan</td><td>0.0 .. nan</td><td>0.0 .. nan</td></tr>\n",
       "<tr><td>mwm_tess_obaf_8x2</td><td>16</td><td>0.0 .. nan</td><td>0.0 .. nan</td><td>0.0 .. nan</td></tr>\n",
       "<tr><td>mwm_tess_obaf_8x4</td><td>32</td><td>0.0 .. 0.0</td><td>0.0 .. 0.0</td><td>0.0 .. 0.04</td></tr>\n",
       "</table>"
      ],
      "text/plain": [
       "<Table length=3>\n",
       "     cadence      nepochs delta [32] delta_min [32] delta_max [32]\n",
       "      str17        int64   float32      float32        float32    \n",
       "----------------- ------- ---------- -------------- --------------\n",
       "mwm_tess_obaf_8x1       8 0.0 .. nan     0.0 .. nan     0.0 .. nan\n",
       "mwm_tess_obaf_8x2      16 0.0 .. nan     0.0 .. nan     0.0 .. nan\n",
       "mwm_tess_obaf_8x4      32 0.0 .. 0.0     0.0 .. 0.0    0.0 .. 0.04"
      ]
     },
     "execution_count": 16,
     "metadata": {},
     "output_type": "execute_result"
    }
   ],
   "source": [
    "#Make all the delta_max 3000 days except for zeros, make them 0.04 to deal with passing clouds. \n",
    "delta_max_arr = delta_arr\n",
    "mask = safe_less(delta_arr,.1)\n",
    "delta_max_arr[mask] = 0.04\n",
    "\n",
    "mask = safe_greater(delta_arr,.1)\n",
    "delta_max_arr[mask] = 3000\n",
    "\n",
    "#Fix first column\n",
    "for i in range(len(delta_max_arr)):\n",
    "    delta_max_arr[i][0] = 0\n",
    "\n",
    "print(delta_max_arr)\n",
    "cadence_tab['delta_max'] = delta_max_arr\n",
    "cadence_tab"
   ]
  },
  {
   "cell_type": "code",
   "execution_count": 17,
   "metadata": {},
   "outputs": [
    {
     "name": "stdout",
     "output_type": "stream",
     "text": [
      "[[ 1.  1.  1.  1.  1.  1.  1.  1. nan nan nan nan nan nan nan nan nan nan\n",
      "  nan nan nan nan nan nan nan nan nan nan nan nan nan nan]\n",
      " [ 1.  1.  1.  1.  1.  1.  1.  1.  1.  1.  1.  1.  1.  1.  1.  1. nan nan\n",
      "  nan nan nan nan nan nan nan nan nan nan nan nan nan nan]\n",
      " [ 1.  1.  1.  1.  1.  1.  1.  1.  1.  1.  1.  1.  1.  1.  1.  1.  1.  1.\n",
      "   1.  1.  1.  1.  1.  1.  1.  1.  1.  1.  1.  1.  1.  1.]]\n"
     ]
    },
    {
     "data": {
      "text/html": [
       "<i>Table length=3</i>\n",
       "<table id=\"table140418672557008\" class=\"table-striped table-bordered table-condensed\">\n",
       "<thead><tr><th>cadence</th><th>nepochs</th><th>delta [32]</th><th>delta_min [32]</th><th>delta_max [32]</th><th>lunation [32]</th></tr></thead>\n",
       "<thead><tr><th>str17</th><th>int64</th><th>float32</th><th>float32</th><th>float32</th><th>float32</th></tr></thead>\n",
       "<tr><td>mwm_tess_obaf_8x1</td><td>8</td><td>0.0 .. nan</td><td>0.0 .. nan</td><td>0.0 .. nan</td><td>1.0 .. nan</td></tr>\n",
       "<tr><td>mwm_tess_obaf_8x2</td><td>16</td><td>0.0 .. nan</td><td>0.0 .. nan</td><td>0.0 .. nan</td><td>1.0 .. nan</td></tr>\n",
       "<tr><td>mwm_tess_obaf_8x4</td><td>32</td><td>0.0 .. 0.0</td><td>0.0 .. 0.0</td><td>0.0 .. 0.04</td><td>1.0 .. 1.0</td></tr>\n",
       "</table>"
      ],
      "text/plain": [
       "<Table length=3>\n",
       "     cadence      nepochs delta [32] delta_min [32] delta_max [32] lunation [32]\n",
       "      str17        int64   float32      float32        float32        float32   \n",
       "----------------- ------- ---------- -------------- -------------- -------------\n",
       "mwm_tess_obaf_8x1       8 0.0 .. nan     0.0 .. nan     0.0 .. nan    1.0 .. nan\n",
       "mwm_tess_obaf_8x2      16 0.0 .. nan     0.0 .. nan     0.0 .. nan    1.0 .. nan\n",
       "mwm_tess_obaf_8x4      32 0.0 .. 0.0     0.0 .. 0.0    0.0 .. 0.04    1.0 .. 1.0"
      ]
     },
     "execution_count": 17,
     "metadata": {},
     "output_type": "execute_result"
    }
   ],
   "source": [
    "#Make all the lunations size 24\n",
    "obaf1_lun = np.concatenate((np.repeat(1.0,8),np.repeat(np.nan,24)))\n",
    "obaf2_lun = np.concatenate((np.repeat(1.0,16),np.repeat(np.nan,16)))\n",
    "obaf4_lun = np.repeat(1.0,32)\n",
    "lunation = np.array([obaf1_lun,obaf2_lun,obaf4_lun],dtype='float32')\n",
    "print(lunation)\n",
    "cadence_tab['lunation'] = lunation\n",
    "cadence_tab"
   ]
  },
  {
   "cell_type": "code",
   "execution_count": 18,
   "metadata": {},
   "outputs": [
    {
     "name": "stdout",
     "output_type": "stream",
     "text": [
      "[['apogee' 'apogee' 'apogee' 'apogee' 'apogee' 'apogee' 'apogee' 'apogee'\n",
      "  'nan' 'nan' 'nan' 'nan' 'nan' 'nan' 'nan' 'nan' 'nan' 'nan' 'nan' 'nan'\n",
      "  'nan' 'nan' 'nan' 'nan' 'nan' 'nan' 'nan' 'nan' 'nan' 'nan' 'nan' 'nan']\n",
      " ['apogee' 'apogee' 'apogee' 'apogee' 'apogee' 'apogee' 'apogee' 'apogee'\n",
      "  'apogee' 'apogee' 'apogee' 'apogee' 'apogee' 'apogee' 'apogee' 'apogee'\n",
      "  'nan' 'nan' 'nan' 'nan' 'nan' 'nan' 'nan' 'nan' 'nan' 'nan' 'nan' 'nan'\n",
      "  'nan' 'nan' 'nan' 'nan']\n",
      " ['apogee' 'apogee' 'apogee' 'apogee' 'apogee' 'apogee' 'apogee' 'apogee'\n",
      "  'apogee' 'apogee' 'apogee' 'apogee' 'apogee' 'apogee' 'apogee' 'apogee'\n",
      "  'apogee' 'apogee' 'apogee' 'apogee' 'apogee' 'apogee' 'apogee' 'apogee'\n",
      "  'apogee' 'apogee' 'apogee' 'apogee' 'apogee' 'apogee' 'apogee' 'apogee']]\n"
     ]
    },
    {
     "data": {
      "text/html": [
       "<i>Table length=3</i>\n",
       "<table id=\"table140418672557008\" class=\"table-striped table-bordered table-condensed\">\n",
       "<thead><tr><th>cadence</th><th>nepochs</th><th>delta [32]</th><th>delta_min [32]</th><th>delta_max [32]</th><th>lunation [32]</th><th>instrument [32]</th></tr></thead>\n",
       "<thead><tr><th>str17</th><th>int64</th><th>float32</th><th>float32</th><th>float32</th><th>float32</th><th>str32</th></tr></thead>\n",
       "<tr><td>mwm_tess_obaf_8x1</td><td>8</td><td>0.0 .. nan</td><td>0.0 .. nan</td><td>0.0 .. nan</td><td>1.0 .. nan</td><td>apogee .. nan</td></tr>\n",
       "<tr><td>mwm_tess_obaf_8x2</td><td>16</td><td>0.0 .. nan</td><td>0.0 .. nan</td><td>0.0 .. nan</td><td>1.0 .. nan</td><td>apogee .. nan</td></tr>\n",
       "<tr><td>mwm_tess_obaf_8x4</td><td>32</td><td>0.0 .. 0.0</td><td>0.0 .. 0.0</td><td>0.0 .. 0.04</td><td>1.0 .. 1.0</td><td>apogee .. apogee</td></tr>\n",
       "</table>"
      ],
      "text/plain": [
       "<Table length=3>\n",
       "     cadence      nepochs delta [32] ... lunation [32] instrument [32] \n",
       "      str17        int64   float32   ...    float32         str32      \n",
       "----------------- ------- ---------- ... ------------- ----------------\n",
       "mwm_tess_obaf_8x1       8 0.0 .. nan ...    1.0 .. nan    apogee .. nan\n",
       "mwm_tess_obaf_8x2      16 0.0 .. nan ...    1.0 .. nan    apogee .. nan\n",
       "mwm_tess_obaf_8x4      32 0.0 .. 0.0 ...    1.0 .. 1.0 apogee .. apogee"
      ]
     },
     "execution_count": 18,
     "metadata": {},
     "output_type": "execute_result"
    }
   ],
   "source": [
    "#Make all the instruments size 32\n",
    "obaf1_inst = np.concatenate((np.repeat('apogee',8),np.repeat(np.nan,24)))\n",
    "obaf2_inst = np.concatenate((np.repeat('apogee',16),np.repeat(np.nan,16)))\n",
    "obaf4_inst = np.repeat('apogee',32)\n",
    "instrument = np.array([obaf1_inst,obaf2_inst,obaf4_inst])\n",
    "print(instrument)\n",
    "cadence_tab['instrument'] = instrument\n",
    "cadence_tab"
   ]
  },
  {
   "cell_type": "code",
   "execution_count": 19,
   "metadata": {},
   "outputs": [],
   "source": [
    "cadence_tab.write('{}/mwm_tess_obaf_cadence_{}.fits'.format(ver,ver),overwrite=True)"
   ]
  },
  {
   "cell_type": "code",
   "execution_count": 20,
   "metadata": {},
   "outputs": [
    {
     "data": {
      "text/html": [
       "<i>Table length=3</i>\n",
       "<table id=\"table140418680018256\" class=\"table-striped table-bordered table-condensed\">\n",
       "<thead><tr><th>cadence</th><th>nepochs</th><th>delta [32]</th><th>delta_min [32]</th><th>delta_max [32]</th><th>lunation [32]</th><th>instrument [32]</th></tr></thead>\n",
       "<thead><tr><th>bytes17</th><th>int64</th><th>float32</th><th>float32</th><th>float32</th><th>float32</th><th>bytes128</th></tr></thead>\n",
       "<tr><td>mwm_tess_obaf_8x1</td><td>8</td><td>0.0 .. nan</td><td>0.0 .. nan</td><td>0.0 .. nan</td><td>1.0 .. nan</td><td>apogee .. nan</td></tr>\n",
       "<tr><td>mwm_tess_obaf_8x2</td><td>16</td><td>0.0 .. nan</td><td>0.0 .. nan</td><td>0.0 .. nan</td><td>1.0 .. nan</td><td>apogee .. nan</td></tr>\n",
       "<tr><td>mwm_tess_obaf_8x4</td><td>32</td><td>0.0 .. 0.0</td><td>0.0 .. 0.0</td><td>0.0 .. 0.04</td><td>1.0 .. 1.0</td><td>apogee .. apogee</td></tr>\n",
       "</table>"
      ],
      "text/plain": [
       "<Table length=3>\n",
       "     cadence      nepochs delta [32] ... lunation [32] instrument [32] \n",
       "     bytes17       int64   float32   ...    float32        bytes128    \n",
       "----------------- ------- ---------- ... ------------- ----------------\n",
       "mwm_tess_obaf_8x1       8 0.0 .. nan ...    1.0 .. nan    apogee .. nan\n",
       "mwm_tess_obaf_8x2      16 0.0 .. nan ...    1.0 .. nan    apogee .. nan\n",
       "mwm_tess_obaf_8x4      32 0.0 .. 0.0 ...    1.0 .. 1.0 apogee .. apogee"
      ]
     },
     "execution_count": 20,
     "metadata": {},
     "output_type": "execute_result"
    }
   ],
   "source": [
    "test =  Table.read('{}/mwm_tess_obaf_cadence_{}.fits'.format(ver,ver))\n",
    "test"
   ]
  },
  {
   "cell_type": "code",
   "execution_count": null,
   "metadata": {},
   "outputs": [],
   "source": []
  }
 ],
 "metadata": {
  "kernelspec": {
   "display_name": "Python 3",
   "language": "python",
   "name": "python3"
  },
  "language_info": {
   "codemirror_mode": {
    "name": "ipython",
    "version": 3
   },
   "file_extension": ".py",
   "mimetype": "text/x-python",
   "name": "python",
   "nbconvert_exporter": "python",
   "pygments_lexer": "ipython3",
   "version": "3.7.6"
  }
 },
 "nbformat": 4,
 "nbformat_minor": 2
}
